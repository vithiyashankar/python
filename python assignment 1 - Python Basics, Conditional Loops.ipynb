{
 "cells": [
  {
   "cell_type": "markdown",
   "id": "8b3326c0",
   "metadata": {},
   "source": [
    "# Python assignment 1 - Python Basics, Conditional Loops"
   ]
  },
  {
   "cell_type": "markdown",
   "id": "38b93b99",
   "metadata": {},
   "source": [
    "\n",
    "1. Write a program which will find all such numbers which are divisible by 7 but are not a multiple of 5, between 2000 and 3200 (both included). The numbers obtained should be printed in a comma-separated sequence on a single line."
   ]
  },
  {
   "cell_type": "code",
   "execution_count": 13,
   "id": "fd04a3c4",
   "metadata": {},
   "outputs": [
    {
     "name": "stdout",
     "output_type": "stream",
     "text": [
      "[2002, 2009, 2016, 2023, 2037, 2044, 2051, 2058, 2072, 2079, 2086, 2093, 2107, 2114, 2121, 2128, 2142, 2149, 2156, 2163, 2177, 2184, 2191, 2198, 2212, 2219, 2226, 2233, 2247, 2254, 2261, 2268, 2282, 2289, 2296, 2303, 2317, 2324, 2331, 2338, 2352, 2359, 2366, 2373, 2387, 2394, 2401, 2408, 2422, 2429, 2436, 2443, 2457, 2464, 2471, 2478, 2492, 2499, 2506, 2513, 2527, 2534, 2541, 2548, 2562, 2569, 2576, 2583, 2597, 2604, 2611, 2618, 2632, 2639, 2646, 2653, 2667, 2674, 2681, 2688, 2702, 2709, 2716, 2723, 2737, 2744, 2751, 2758, 2772, 2779, 2786, 2793, 2807, 2814, 2821, 2828, 2842, 2849, 2856, 2863, 2877, 2884, 2891, 2898, 2912, 2919, 2926, 2933, 2947, 2954, 2961, 2968, 2982, 2989, 2996, 3003, 3017, 3024, 3031, 3038, 3052, 3059, 3066, 3073, 3087, 3094, 3101, 3108, 3122, 3129, 3136, 3143, 3157, 3164, 3171, 3178, 3192, 3199]\n"
     ]
    }
   ],
   "source": [
    "l = []\n",
    "for i in range(2000, 3201):\n",
    "    if (i%7 == 0) and (i%5!=0):\n",
    "        l.append(i)\n",
    "\n",
    "print(l)"
   ]
  },
  {
   "cell_type": "markdown",
   "id": "3bb7a2ba",
   "metadata": {},
   "source": [
    "2. Write a Python program to accept the user's first and last name and then getting them printed in the the reverse order with a space between first name and last name."
   ]
  },
  {
   "cell_type": "code",
   "execution_count": 18,
   "id": "3a426f43",
   "metadata": {},
   "outputs": [
    {
     "name": "stdout",
     "output_type": "stream",
     "text": [
      "Enter your first name :Selvaratnam\n",
      "Enter your last name: Vithiyashankar\n",
      "mantaravleS raknahsayihtiV\n"
     ]
    }
   ],
   "source": [
    "first_name = input(\"Enter your first name :\")\n",
    "last_name = input(\"Enter your last name: \")\n",
    "print(first_name[::-1],last_name[::-1])"
   ]
  },
  {
   "cell_type": "markdown",
   "id": "16d457e9",
   "metadata": {},
   "source": [
    "3. Write a Python program to find the volume of a sphere with diameter 12 cm.\n",
    "Formula: V=4/3 * π * r^3"
   ]
  },
  {
   "cell_type": "code",
   "execution_count": 24,
   "id": "defff7c1",
   "metadata": {},
   "outputs": [
    {
     "name": "stdout",
     "output_type": "stream",
     "text": [
      "Volume of Sphere in cubic cm : 904.78\n"
     ]
    }
   ],
   "source": [
    "d = 12\n",
    "r = d/2\n",
    "pi = 3.141592653589793\n",
    "\n",
    "V = 4/3 * pi * r**3\n",
    "\n",
    "V = '{0:.2f}'.format(V) # Formating to 2 decimal places\n",
    "\n",
    "print(\"Volume of Sphere in cubic cm :\", V)"
   ]
  },
  {
   "cell_type": "code",
   "execution_count": null,
   "id": "579c1efd",
   "metadata": {},
   "outputs": [],
   "source": []
  }
 ],
 "metadata": {
  "kernelspec": {
   "display_name": "Python 3",
   "language": "python",
   "name": "python3"
  },
  "language_info": {
   "codemirror_mode": {
    "name": "ipython",
    "version": 3
   },
   "file_extension": ".py",
   "mimetype": "text/x-python",
   "name": "python",
   "nbconvert_exporter": "python",
   "pygments_lexer": "ipython3",
   "version": "3.8.8"
  }
 },
 "nbformat": 4,
 "nbformat_minor": 5
}
